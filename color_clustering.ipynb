{
 "cells": [
  {
   "cell_type": "code",
   "execution_count": 2,
   "metadata": {},
   "outputs": [],
   "source": [
    "import colorsys\n",
    "import pandas as pd\n",
    "import numpy as np\n",
    "import ast\n",
    "\n",
    "import pyjnius\n",
    "from sklearn.cluster import DBSCAN\n",
    "\n",
    "import matplotlib.pyplot as plt\n",
    "from mpl_toolkits.mplot3d import Axes3D\n",
    "import seaborn as sns"
   ]
  },
  {
   "cell_type": "markdown",
   "metadata": {},
   "source": [
    "**1. Color conversion: HEX -> HSB**"
   ]
  },
  {
   "cell_type": "markdown",
   "metadata": {},
   "source": [
    "HSB (hue, saturation, and brightness) color transform: more intuitive color choice by artists. Created by Alvy Ray Smith in 1974."
   ]
  },
  {
   "cell_type": "markdown",
   "metadata": {},
   "source": [
    "**1.1. HEX to HSB (values between 0 and 1):**"
   ]
  },
  {
   "cell_type": "code",
   "execution_count": 3,
   "metadata": {},
   "outputs": [],
   "source": [
    "def hex_to_hsb(hex_color):\n",
    "    hex_color = hex_color.lstrip(\"#\")\n",
    "    r, g, b = [int(hex_color[i:i+2], 16) for i in (0, 2, 4)]\n",
    "    return colorsys.rgb_to_hsv(r / 255.0, g / 255.0, b / 255.0)"
   ]
  },
  {
   "cell_type": "markdown",
   "metadata": {},
   "source": [
    "**1.2. Convert color palette into H S B components:**"
   ]
  },
  {
   "cell_type": "code",
   "execution_count": 4,
   "metadata": {},
   "outputs": [],
   "source": [
    "def extract_hsb_components(colors, top_n=10):\n",
    "    colors = colors[:top_n] + [\"#000000\"] * (top_n - len(colors))  # pad with black if needed\n",
    "    h, s, b = [], [], []\n",
    "    for color in colors:\n",
    "        hue, sat, bri = hex_to_hsb(color)\n",
    "        h.append(hue)\n",
    "        s.append(sat)\n",
    "        b.append(bri)\n",
    "    return h, s, b"
   ]
  },
  {
   "cell_type": "markdown",
   "metadata": {},
   "source": [
    "**2. Add decomposed colors to dataframe**"
   ]
  },
  {
   "cell_type": "code",
   "execution_count": 5,
   "metadata": {},
   "outputs": [],
   "source": [
    "df = pd.read_csv(\"omniart-paintings-filtered-clean.csv\")"
   ]
  },
  {
   "cell_type": "code",
   "execution_count": 6,
   "metadata": {},
   "outputs": [],
   "source": [
    "# Drop missing palette info\n",
    "df = df.dropna(subset=['color_pallete', 'palette_count'])"
   ]
  },
  {
   "cell_type": "code",
   "execution_count": 7,
   "metadata": {},
   "outputs": [],
   "source": [
    "# Parse strings as lists\n",
    "df['color_pallete'] = df['color_pallete'].apply(\n",
    "    lambda x: ast.literal_eval(x) if isinstance(x, str) else x\n",
    ")\n"
   ]
  },
  {
   "cell_type": "code",
   "execution_count": 8,
   "metadata": {},
   "outputs": [],
   "source": [
    "# Apply and expand into new columns\n",
    "top_n = 10\n",
    "hsb = df['color_pallete'].apply(lambda lst: extract_hsb_components(lst, top_n=top_n))"
   ]
  },
  {
   "cell_type": "code",
   "execution_count": 9,
   "metadata": {},
   "outputs": [],
   "source": [
    "# Split tuples into separate lists\n",
    "df[['H', 'S', 'B']] = pd.DataFrame(hsb.tolist(), index=df.index)"
   ]
  },
  {
   "cell_type": "code",
   "execution_count": 10,
   "metadata": {},
   "outputs": [],
   "source": [
    "# Explode into columns H_1..H_10, S_1..S_10, B_1..B_10\n",
    "for i in range(top_n):\n",
    "    df[f'H_{i+1}'] = df['H'].apply(lambda x: x[i])\n",
    "    df[f'S_{i+1}'] = df['S'].apply(lambda x: x[i])\n",
    "    df[f'B_{i+1}'] = df['B'].apply(lambda x: x[i])"
   ]
  },
  {
   "cell_type": "markdown",
   "metadata": {},
   "source": [
    "**3. Cluster colors into human comprehensible groups**"
   ]
  },
  {
   "cell_type": "markdown",
   "metadata": {},
   "source": [
    "**3.1. Get features:**"
   ]
  },
  {
   "cell_type": "markdown",
   "metadata": {},
   "source": [
    "**1.1. Get list of all colors:**"
   ]
  },
  {
   "cell_type": "code",
   "execution_count": 11,
   "metadata": {},
   "outputs": [],
   "source": [
    "all_colors = []\n",
    "\n",
    "for _, row in df.iterrows():\n",
    "    h_list = row['H']\n",
    "    s_list = row['S']\n",
    "    b_list = row['B']\n",
    "    # Zip to get list of colors as (H,S,B) tuples\n",
    "    for h, s, b in zip(h_list, s_list, b_list):\n",
    "        all_colors.append([h, s, b])\n",
    "\n",
    "all_colors = np.array(all_colors)  # shape (num_colors, 3)"
   ]
  },
  {
   "cell_type": "markdown",
   "metadata": {},
   "source": [
    "**1.2. Get unique colors:**"
   ]
  },
  {
   "cell_type": "code",
   "execution_count": 12,
   "metadata": {},
   "outputs": [],
   "source": [
    "unique_colors = np.unique(all_colors, axis=0)"
   ]
  },
  {
   "cell_type": "markdown",
   "metadata": {},
   "source": [
    "**1.3. Convert hue (H) to sin and cos (circular distance)**"
   ]
  },
  {
   "cell_type": "code",
   "execution_count": 13,
   "metadata": {},
   "outputs": [],
   "source": [
    "H = unique_colors[:, 0]\n",
    "S = unique_colors[:, 1]\n",
    "B = unique_colors[:, 2]\n",
    "\n",
    "H_sin = np.sin(H * 2 * np.pi)\n",
    "H_cos = np.cos(H * 2 * np.pi)"
   ]
  },
  {
   "cell_type": "markdown",
   "metadata": {},
   "source": [
    "**2. Features set**"
   ]
  },
  {
   "cell_type": "code",
   "execution_count": 14,
   "metadata": {},
   "outputs": [],
   "source": [
    "features = np.column_stack((H_sin, H_cos, S, B))"
   ]
  },
  {
   "cell_type": "markdown",
   "metadata": {},
   "source": [
    "**3. Cluster with DBSCAN**"
   ]
  },
  {
   "cell_type": "markdown",
   "metadata": {},
   "source": [
    "Trying to get to 569 colors: 126 (Y) + 60 (O) + 161 (R) + 38 (V) + 47 (B) + 35 (G) + 34 (Br) + 35 (Bk) + 33 (W)\n",
    "https://www.artiscreation.com/Color_index_names.html"
   ]
  },
  {
   "cell_type": "markdown",
   "metadata": {},
   "source": [
    "eps: float, default=0.5\n",
    "The maximum distance between two samples for one to be considered as in the neighborhood of the other. This is not a maximum bound on the distances of points within a cluster. This is the most important DBSCAN parameter to choose appropriately for your data set and distance function.\n",
    "\n",
    "min_sample: sint, default=5\n",
    "The number of samples (or total weight) in a neighborhood for a point to be considered as a core point. This includes the point itself. If min_samples is set to a higher value, DBSCAN will find denser clusters, whereas if it is set to a lower value, the found clusters will be more sparse."
   ]
  },
  {
   "cell_type": "code",
   "execution_count": null,
   "metadata": {},
   "outputs": [],
   "source": [
    "epsilon = 5\n",
    "min_elements = 2000 # 2 * number of features"
   ]
  },
  {
   "cell_type": "code",
   "execution_count": null,
   "metadata": {},
   "outputs": [],
   "source": [
    "dbscan = DBSCAN(eps=epsilon, min_samples=min_elements)"
   ]
  },
  {
   "cell_type": "code",
   "execution_count": null,
   "metadata": {},
   "outputs": [],
   "source": [
    "dbscan"
   ]
  },
  {
   "cell_type": "code",
   "execution_count": null,
   "metadata": {},
   "outputs": [],
   "source": [
    "dbscan.fit(features)"
   ]
  },
  {
   "cell_type": "code",
   "execution_count": 15,
   "metadata": {},
   "outputs": [
    {
     "data": {
      "text/plain": [
       "2104.1511423550087"
      ]
     },
     "execution_count": 15,
     "metadata": {},
     "output_type": "execute_result"
    }
   ],
   "source": [
    "len(unique_colors)/569"
   ]
  },
  {
   "cell_type": "code",
   "execution_count": null,
   "metadata": {},
   "outputs": [],
   "source": []
  }
 ],
 "metadata": {
  "kernelspec": {
   "display_name": "Python 3",
   "language": "python",
   "name": "python3"
  },
  "language_info": {
   "codemirror_mode": {
    "name": "ipython",
    "version": 3
   },
   "file_extension": ".py",
   "mimetype": "text/x-python",
   "name": "python",
   "nbconvert_exporter": "python",
   "pygments_lexer": "ipython3",
   "version": "3.9.6"
  }
 },
 "nbformat": 4,
 "nbformat_minor": 2
}
