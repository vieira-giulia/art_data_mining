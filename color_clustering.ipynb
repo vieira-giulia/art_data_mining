{
 "cells": [
  {
   "cell_type": "code",
   "execution_count": 17,
   "metadata": {},
   "outputs": [],
   "source": [
    "import colorsys\n",
    "import pandas as pd\n",
    "import numpy as np\n",
    "import ast\n",
    "\n",
    "import matplotlib.pyplot as plt\n",
    "from mpl_toolkits.mplot3d import Axes3D\n",
    "import seaborn as sns\n",
    "from sklearn.preprocessing import normalize\n",
    "from sklearn.cluster import KMeans\n",
    "from sklearn.manifold import TSNE\n",
    "from sklearn.metrics.pairwise import euclidean_distances\n"
   ]
  },
  {
   "cell_type": "markdown",
   "metadata": {},
   "source": [
    "**1. Color conversion: HEX -> HSB**"
   ]
  },
  {
   "cell_type": "markdown",
   "metadata": {},
   "source": [
    "HSB (hue, saturation, and brightness) color transform: more intuitive color choice by artists. Created by Alvy Ray Smith in 1974."
   ]
  },
  {
   "cell_type": "code",
   "execution_count": 18,
   "metadata": {},
   "outputs": [],
   "source": [
    "# HEX to RGB (0-255)\n",
    "def hex_to_rgb(hex_color):\n",
    "    hex_color = hex_color.lstrip(\"#\")\n",
    "    return [int(hex_color[i:i+2], 16) for i in (0, 2, 4)]"
   ]
  },
  {
   "cell_type": "code",
   "execution_count": 5,
   "metadata": {},
   "outputs": [],
   "source": [
    "# HEX to HSB (values between 0-1)\n",
    "def hex_to_hsb(hex_color):\n",
    "    r, g, b = hex_to_rgb(hex_color)\n",
    "    return colorsys.rgb_to_hsv(r / 255.0, g / 255.0, b / 255.0)"
   ]
  },
  {
   "cell_type": "code",
   "execution_count": 6,
   "metadata": {},
   "outputs": [],
   "source": [
    "# Converts color palette into separate H, S, B components\n",
    "def extract_hsb_components(colors, top_n=10):\n",
    "    colors = colors[:top_n] + [\"#000000\"] * (top_n - len(colors))  # pad with black if needed\n",
    "    h, s, b = [], [], []\n",
    "    for color in colors:\n",
    "        hue, sat, bri = hex_to_hsb(color)\n",
    "        h.append(hue)\n",
    "        s.append(sat)\n",
    "        b.append(bri)\n",
    "    return h, s, b"
   ]
  },
  {
   "cell_type": "markdown",
   "metadata": {},
   "source": [
    "**2. Add decomposed colors to dataframe**"
   ]
  },
  {
   "cell_type": "code",
   "execution_count": 7,
   "metadata": {},
   "outputs": [],
   "source": [
    "df = pd.read_csv(\"omniart-paintings-filtered-clean.csv\")"
   ]
  },
  {
   "cell_type": "code",
   "execution_count": 8,
   "metadata": {},
   "outputs": [],
   "source": [
    "# Drop missing palette info\n",
    "df = df.dropna(subset=['color_pallete', 'palette_count'])"
   ]
  },
  {
   "cell_type": "code",
   "execution_count": 9,
   "metadata": {},
   "outputs": [],
   "source": [
    "# Parse strings as lists\n",
    "df['color_pallete'] = df['color_pallete'].apply(\n",
    "    lambda x: ast.literal_eval(x) if isinstance(x, str) else x\n",
    ")\n",
    "\n",
    "df['palette_count'] = df['palette_count'].apply(\n",
    "    lambda x: [float(i) for i in ast.literal_eval(x)] if isinstance(x, str) else [float(i) for i in x]\n",
    ")\n"
   ]
  },
  {
   "cell_type": "code",
   "execution_count": 10,
   "metadata": {},
   "outputs": [],
   "source": [
    "# Apply and expand into new columns\n",
    "top_n = 10\n",
    "hsb = df['color_pallete'].apply(lambda lst: extract_hsb_components(lst, top_n=top_n))"
   ]
  },
  {
   "cell_type": "code",
   "execution_count": 11,
   "metadata": {},
   "outputs": [],
   "source": [
    "# Split tuples into separate lists\n",
    "df[['H', 'S', 'B']] = pd.DataFrame(hsb.tolist(), index=df.index)"
   ]
  },
  {
   "cell_type": "code",
   "execution_count": 12,
   "metadata": {},
   "outputs": [],
   "source": [
    "# Explode into columns H_1..H_10, S_1..S_10, B_1..B_10\n",
    "for i in range(top_n):\n",
    "    df[f'H_{i+1}'] = df['H'].apply(lambda x: x[i])\n",
    "    df[f'S_{i+1}'] = df['S'].apply(lambda x: x[i])\n",
    "    df[f'B_{i+1}'] = df['B'].apply(lambda x: x[i])"
   ]
  },
  {
   "cell_type": "markdown",
   "metadata": {},
   "source": [
    "**3. Cluster colors into human comprehensible groups**"
   ]
  },
  {
   "cell_type": "markdown",
   "metadata": {},
   "source": [
    "**1. Get a list of all colors:**"
   ]
  },
  {
   "cell_type": "code",
   "execution_count": 20,
   "metadata": {},
   "outputs": [],
   "source": [
    "all_colors = []\n",
    "\n",
    "for _, row in df.iterrows():\n",
    "    h_list = row['H']\n",
    "    s_list = row['S']\n",
    "    b_list = row['B']\n",
    "    # Zip to get list of colors as (H,S,B) tuples\n",
    "    for h, s, b in zip(h_list, s_list, b_list):\n",
    "        all_colors.append([h, s, b])\n",
    "\n",
    "all_colors = np.array(all_colors)  # shape (num_colors, 3)"
   ]
  },
  {
   "cell_type": "markdown",
   "metadata": {},
   "source": [
    "**2. Convert hue (H) to sin and cos (circular distance)**"
   ]
  },
  {
   "cell_type": "code",
   "execution_count": 15,
   "metadata": {},
   "outputs": [],
   "source": [
    "H = all_colors[:, 0]\n",
    "S = all_colors[:, 1]\n",
    "B = all_colors[:, 2]\n",
    "\n",
    "H_sin = np.sin(H * 2 * np.pi)\n",
    "H_cos = np.cos(H * 2 * np.pi)\n",
    "\n",
    "features = np.stack([H_sin, H_cos, S, B], axis=1)  # shape (num_colors, 4)"
   ]
  },
  {
   "cell_type": "code",
   "execution_count": 16,
   "metadata": {},
   "outputs": [],
   "source": [
    "# 3. Cluster with KMeans\n",
    "k = 250  # Number of clusters you want\n",
    "\n",
    "kmeans = KMeans(n_clusters=k, random_state=42)\n",
    "labels = kmeans.fit_predict(features)"
   ]
  },
  {
   "cell_type": "code",
   "execution_count": 19,
   "metadata": {},
   "outputs": [],
   "source": [
    "# 4. Cluster centers (convert back to HSB)\n",
    "centers = kmeans.cluster_centers_\n",
    "hue_centers = (np.arctan2(centers[:, 0], centers[:, 1]) / (2 * np.pi)) % 1\n",
    "saturation_centers = centers[:, 2]\n",
    "brightness_centers = centers[:, 3]\n",
    "\n",
    "cluster_centers_hsb = np.stack([hue_centers, saturation_centers, brightness_centers], axis=1)"
   ]
  },
  {
   "cell_type": "code",
   "execution_count": null,
   "metadata": {},
   "outputs": [],
   "source": []
  },
  {
   "cell_type": "code",
   "execution_count": null,
   "metadata": {},
   "outputs": [],
   "source": []
  }
 ],
 "metadata": {
  "kernelspec": {
   "display_name": "Python 3",
   "language": "python",
   "name": "python3"
  },
  "language_info": {
   "codemirror_mode": {
    "name": "ipython",
    "version": 3
   },
   "file_extension": ".py",
   "mimetype": "text/x-python",
   "name": "python",
   "nbconvert_exporter": "python",
   "pygments_lexer": "ipython3",
   "version": "3.9.6"
  }
 },
 "nbformat": 4,
 "nbformat_minor": 2
}
