{
 "cells": [
  {
   "cell_type": "code",
   "execution_count": 1,
   "id": "d2c5533b-a87c-4be7-847f-e38f0a7d2512",
   "metadata": {},
   "outputs": [],
   "source": [
    "import pandas as pd\n",
    "import matplotlib.pyplot as plt\n",
    "import seaborn as sns\n",
    "\n",
    "%matplotlib inline\n",
    "sns.set(style='whitegrid')"
   ]
  },
  {
   "cell_type": "code",
   "execution_count": 2,
   "id": "9867237b-0d30-4b5e-ac2b-d6ef15aa7018",
   "metadata": {},
   "outputs": [
    {
     "data": {
      "text/html": [
       "<div>\n",
       "<style scoped>\n",
       "    .dataframe tbody tr th:only-of-type {\n",
       "        vertical-align: middle;\n",
       "    }\n",
       "\n",
       "    .dataframe tbody tr th {\n",
       "        vertical-align: top;\n",
       "    }\n",
       "\n",
       "    .dataframe thead th {\n",
       "        text-align: right;\n",
       "    }\n",
       "</style>\n",
       "<table border=\"1\" class=\"dataframe\">\n",
       "  <thead>\n",
       "    <tr style=\"text-align: right;\">\n",
       "      <th></th>\n",
       "      <th>artwork_name</th>\n",
       "      <th>artist_full_name</th>\n",
       "      <th>creation_year</th>\n",
       "      <th>century</th>\n",
       "      <th>school</th>\n",
       "      <th>color_pallete</th>\n",
       "      <th>dominant_color</th>\n",
       "      <th>palette_count</th>\n",
       "    </tr>\n",
       "  </thead>\n",
       "  <tbody>\n",
       "    <tr>\n",
       "      <th>0</th>\n",
       "      <td>70 amx</td>\n",
       "      <td>xynphix</td>\n",
       "      <td>2007.0</td>\n",
       "      <td>21.0</td>\n",
       "      <td>modern</td>\n",
       "      <td>[u'#e2f5e5', u'#a5ab9e', u'#65c7a3', u'#243b39...</td>\n",
       "      <td>#a5ab9e</td>\n",
       "      <td>[4009, 7637, 3303, 6147, 4742, 3908, 7216, 514...</td>\n",
       "    </tr>\n",
       "    <tr>\n",
       "      <th>1</th>\n",
       "      <td>crucifixion (detail)</td>\n",
       "      <td>andrea da firenze</td>\n",
       "      <td>1366.0</td>\n",
       "      <td>14.0</td>\n",
       "      <td>Italia</td>\n",
       "      <td>[u'#a18b78', u'#866b58', u'#7c5340', u'#5b4b3f...</td>\n",
       "      <td>#110d0d</td>\n",
       "      <td>[6226, 6056, 4293, 6101, 5185, 5292, 6392, 384...</td>\n",
       "    </tr>\n",
       "    <tr>\n",
       "      <th>2</th>\n",
       "      <td>faith</td>\n",
       "      <td>giuseppe angeli</td>\n",
       "      <td>1754.0</td>\n",
       "      <td>18.0</td>\n",
       "      <td>Italia</td>\n",
       "      <td>[u'#000202', u'#a3754c', u'#935531', u'#1d130c...</td>\n",
       "      <td>#000000</td>\n",
       "      <td>[1007, 4537, 4708, 4466, 4432, 2946, 4776, 448...</td>\n",
       "    </tr>\n",
       "    <tr>\n",
       "      <th>3</th>\n",
       "      <td>lamp post</td>\n",
       "      <td>williamsnape</td>\n",
       "      <td>2010.0</td>\n",
       "      <td>21.0</td>\n",
       "      <td>modern</td>\n",
       "      <td>[u'#cdada2', u'#987d71', u'#503b33', u'#311d1b...</td>\n",
       "      <td>#233b49</td>\n",
       "      <td>[4225, 4308, 4914, 6274, 6911, 6261, 6753, 421...</td>\n",
       "    </tr>\n",
       "    <tr>\n",
       "      <th>4</th>\n",
       "      <td>the one that got away</td>\n",
       "      <td>katiehofgard</td>\n",
       "      <td>2009.0</td>\n",
       "      <td>21.0</td>\n",
       "      <td>modern</td>\n",
       "      <td>[u'#ffffff', u'#fdfdfd', u'#fcfffe', u'#9d7957...</td>\n",
       "      <td>#ffffff</td>\n",
       "      <td>[43399, 1136, 407, 2637, 2812, 679, 3585, 2514...</td>\n",
       "    </tr>\n",
       "  </tbody>\n",
       "</table>\n",
       "</div>"
      ],
      "text/plain": [
       "            artwork_name   artist_full_name  creation_year  century  school  \\\n",
       "0                 70 amx            xynphix         2007.0     21.0  modern   \n",
       "1   crucifixion (detail)  andrea da firenze         1366.0     14.0  Italia   \n",
       "2                  faith    giuseppe angeli         1754.0     18.0  Italia   \n",
       "3              lamp post       williamsnape         2010.0     21.0  modern   \n",
       "4  the one that got away       katiehofgard         2009.0     21.0  modern   \n",
       "\n",
       "                                       color_pallete dominant_color  \\\n",
       "0  [u'#e2f5e5', u'#a5ab9e', u'#65c7a3', u'#243b39...        #a5ab9e   \n",
       "1  [u'#a18b78', u'#866b58', u'#7c5340', u'#5b4b3f...        #110d0d   \n",
       "2  [u'#000202', u'#a3754c', u'#935531', u'#1d130c...        #000000   \n",
       "3  [u'#cdada2', u'#987d71', u'#503b33', u'#311d1b...        #233b49   \n",
       "4  [u'#ffffff', u'#fdfdfd', u'#fcfffe', u'#9d7957...        #ffffff   \n",
       "\n",
       "                                       palette_count  \n",
       "0  [4009, 7637, 3303, 6147, 4742, 3908, 7216, 514...  \n",
       "1  [6226, 6056, 4293, 6101, 5185, 5292, 6392, 384...  \n",
       "2  [1007, 4537, 4708, 4466, 4432, 2946, 4776, 448...  \n",
       "3  [4225, 4308, 4914, 6274, 6911, 6261, 6753, 421...  \n",
       "4  [43399, 1136, 407, 2637, 2812, 679, 3585, 2514...  "
      ]
     },
     "execution_count": 2,
     "metadata": {},
     "output_type": "execute_result"
    }
   ],
   "source": [
    "df = pd.read_csv('omniart-paintings-filtered.csv')\n",
    "df.head()"
   ]
  },
  {
   "cell_type": "code",
   "execution_count": 3,
   "id": "db68fb5f",
   "metadata": {},
   "outputs": [
    {
     "name": "stdout",
     "output_type": "stream",
     "text": [
      "General information:\n",
      "<class 'pandas.core.frame.DataFrame'>\n",
      "RangeIndex: 264247 entries, 0 to 264246\n",
      "Data columns (total 8 columns):\n",
      " #   Column            Non-Null Count   Dtype  \n",
      "---  ------            --------------   -----  \n",
      " 0   artwork_name      264245 non-null  object \n",
      " 1   artist_full_name  264247 non-null  object \n",
      " 2   creation_year     264247 non-null  float64\n",
      " 3   century           264247 non-null  float64\n",
      " 4   school            264243 non-null  object \n",
      " 5   color_pallete     264247 non-null  object \n",
      " 6   dominant_color    264247 non-null  object \n",
      " 7   palette_count     264247 non-null  object \n",
      "dtypes: float64(2), object(6)\n",
      "memory usage: 16.1+ MB\n"
     ]
    }
   ],
   "source": [
    "print(\"General information:\")\n",
    "df.info()"
   ]
  },
  {
   "cell_type": "code",
   "execution_count": 4,
   "id": "35335fe5",
   "metadata": {},
   "outputs": [
    {
     "name": "stdout",
     "output_type": "stream",
     "text": [
      "\n",
      "Descriptive statistics for numerical columns:\n"
     ]
    },
    {
     "data": {
      "text/html": [
       "<div>\n",
       "<style scoped>\n",
       "    .dataframe tbody tr th:only-of-type {\n",
       "        vertical-align: middle;\n",
       "    }\n",
       "\n",
       "    .dataframe tbody tr th {\n",
       "        vertical-align: top;\n",
       "    }\n",
       "\n",
       "    .dataframe thead th {\n",
       "        text-align: right;\n",
       "    }\n",
       "</style>\n",
       "<table border=\"1\" class=\"dataframe\">\n",
       "  <thead>\n",
       "    <tr style=\"text-align: right;\">\n",
       "      <th></th>\n",
       "      <th>creation_year</th>\n",
       "      <th>century</th>\n",
       "    </tr>\n",
       "  </thead>\n",
       "  <tbody>\n",
       "    <tr>\n",
       "      <th>count</th>\n",
       "      <td>264247.000000</td>\n",
       "      <td>264247.000000</td>\n",
       "    </tr>\n",
       "    <tr>\n",
       "      <th>mean</th>\n",
       "      <td>1927.266542</td>\n",
       "      <td>20.037310</td>\n",
       "    </tr>\n",
       "    <tr>\n",
       "      <th>std</th>\n",
       "      <td>169.213789</td>\n",
       "      <td>1.820886</td>\n",
       "    </tr>\n",
       "    <tr>\n",
       "      <th>min</th>\n",
       "      <td>-1000.000000</td>\n",
       "      <td>-9.000000</td>\n",
       "    </tr>\n",
       "    <tr>\n",
       "      <th>25%</th>\n",
       "      <td>1913.000000</td>\n",
       "      <td>20.000000</td>\n",
       "    </tr>\n",
       "    <tr>\n",
       "      <th>50%</th>\n",
       "      <td>2010.000000</td>\n",
       "      <td>21.000000</td>\n",
       "    </tr>\n",
       "    <tr>\n",
       "      <th>75%</th>\n",
       "      <td>2013.000000</td>\n",
       "      <td>21.000000</td>\n",
       "    </tr>\n",
       "    <tr>\n",
       "      <th>max</th>\n",
       "      <td>2017.000000</td>\n",
       "      <td>21.000000</td>\n",
       "    </tr>\n",
       "  </tbody>\n",
       "</table>\n",
       "</div>"
      ],
      "text/plain": [
       "       creation_year        century\n",
       "count  264247.000000  264247.000000\n",
       "mean     1927.266542      20.037310\n",
       "std       169.213789       1.820886\n",
       "min     -1000.000000      -9.000000\n",
       "25%      1913.000000      20.000000\n",
       "50%      2010.000000      21.000000\n",
       "75%      2013.000000      21.000000\n",
       "max      2017.000000      21.000000"
      ]
     },
     "metadata": {},
     "output_type": "display_data"
    }
   ],
   "source": [
    "print(\"\\nDescriptive statistics for numerical columns:\")\n",
    "display(df.describe())"
   ]
  },
  {
   "cell_type": "code",
   "execution_count": 5,
   "id": "3f65874f",
   "metadata": {},
   "outputs": [
    {
     "name": "stdout",
     "output_type": "stream",
     "text": [
      "\n",
      "Empty values per column:\n",
      "artwork_name        2\n",
      "artist_full_name    0\n",
      "creation_year       0\n",
      "century             0\n",
      "school              4\n",
      "color_pallete       0\n",
      "dominant_color      0\n",
      "palette_count       0\n",
      "dtype: int64\n"
     ]
    }
   ],
   "source": [
    "print(\"\\nEmpty values per column:\")\n",
    "print(df.isna().sum())"
   ]
  },
  {
   "cell_type": "code",
   "execution_count": 6,
   "id": "b0cb866d",
   "metadata": {},
   "outputs": [
    {
     "name": "stdout",
     "output_type": "stream",
     "text": [
      "Number of unique artists: 59683\n"
     ]
    }
   ],
   "source": [
    "num_artists = df['artist_full_name'].nunique()\n",
    "print(f\"Number of unique artists: {num_artists}\")"
   ]
  },
  {
   "cell_type": "code",
   "execution_count": 12,
   "id": "fdb15dc0",
   "metadata": {},
   "outputs": [
    {
     "name": "stdout",
     "output_type": "stream",
     "text": [
      "\n",
      "Proportion of paintings per century:\n",
      "century\n",
      "-9.0     0.000004\n",
      "-2.0     0.000011\n",
      "-1.0     0.000015\n",
      " 1.0     0.000201\n",
      " 2.0     0.000015\n",
      " 3.0     0.000019\n",
      " 4.0     0.000015\n",
      " 5.0     0.000008\n",
      " 6.0     0.000049\n",
      " 7.0     0.000030\n",
      " 8.0     0.000083\n",
      " 9.0     0.000091\n",
      " 10.0    0.000132\n",
      " 11.0    0.000272\n",
      " 12.0    0.000870\n",
      " 13.0    0.001854\n",
      " 14.0    0.009612\n",
      " 15.0    0.029393\n",
      " 16.0    0.037575\n",
      " 17.0    0.047569\n",
      " 18.0    0.026207\n",
      " 19.0    0.079532\n",
      " 20.0    0.067304\n",
      " 21.0    0.699138\n",
      "Name: proportion, dtype: float64\n"
     ]
    }
   ],
   "source": [
    "print(\"\\nProportion of paintings per century:\")\n",
    "paintings_per_century = df['century'].value_counts(10).sort_index()\n",
    "print(paintings_per_century)"
   ]
  },
  {
   "cell_type": "code",
   "execution_count": 13,
   "id": "a1d63413",
   "metadata": {},
   "outputs": [
    {
     "name": "stdout",
     "output_type": "stream",
     "text": [
      "\n",
      "Proportion of paintings per school:\n",
      "school\n",
      "modern            0.696961\n",
      "unknown           0.177042\n",
      "italian           0.041333\n",
      "dutch             0.014646\n",
      "french            0.014509\n",
      "                    ...   \n",
      "franco-flemish    0.000004\n",
      "iran              0.000004\n",
      "mexican           0.000004\n",
      "bavaria,          0.000004\n",
      "sri               0.000004\n",
      "Name: proportion, Length: 80, dtype: float64\n"
     ]
    }
   ],
   "source": [
    "print(\"\\nProportion of paintings per school:\")\n",
    "top_schools = df['school'].value_counts(10)\n",
    "print(top_schools)"
   ]
  },
  {
   "cell_type": "code",
   "execution_count": 61,
   "id": "4503dc18",
   "metadata": {},
   "outputs": [
    {
     "name": "stdout",
     "output_type": "stream",
     "text": [
      "Number of unique colors in top 400: 356\n"
     ]
    },
    {
     "data": {
      "image/png": "[encoded data removed]",
      "text/plain": [
       "<Figure size 1200x1200 with 1 Axes>"
      ]
     },
     "metadata": {},
     "output_type": "display_data"
    }
   ],
   "source": [
    "import matplotlib.pyplot as plt\n",
    "import numpy as np\n",
    "\n",
    "# Take the top N paintings (or all, capped to a reasonable number)\n",
    "N = 400  # for example, a 20x20 grid (adjust as you want)\n",
    "colors = df['dominant_color'].head(N).tolist()\n",
    "\n",
    "# Convert hex to RGB normalized\n",
    "def hex_to_rgb(h):\n",
    "    h = h.lstrip('#')\n",
    "    return tuple(int(h[i:i+2], 16)/255 for i in (0, 2, 4))\n",
    "\n",
    "rgb_colors = np.array([hex_to_rgb(c) for c in colors])\n",
    "\n",
    "# Compute grid size (square as close as possible)\n",
    "grid_size = int(np.ceil(np.sqrt(N)))\n",
    "\n",
    "# Create an empty image array: (grid_size x grid_size x 3)\n",
    "img = np.ones((grid_size, grid_size, 3))\n",
    "\n",
    "# Fill the array with the RGB colors, row by row\n",
    "for i, color in enumerate(rgb_colors):\n",
    "    row = i // grid_size\n",
    "    col = i % grid_size\n",
    "    img[row, col, :] = color\n",
    "\n",
    "# Count unique colors\n",
    "unique_colors = len(set(colors))\n",
    "print(f\"Number of unique colors in top {N}: {unique_colors}\")\n",
    "\n",
    "# Plot with coordinates on axes\n",
    "fig, ax = plt.subplots(figsize=(12, 12))\n",
    "ax.imshow(img)\n",
    "ax.set_xticks(np.arange(grid_size))\n",
    "ax.set_yticks(np.arange(grid_size))\n",
    "\n",
    "# Label ticks with coordinate numbers\n",
    "ax.set_xticklabels(np.arange(grid_size))\n",
    "ax.set_yticklabels(np.arange(grid_size))\n",
    "\n",
    "# Minor ticks for grid lines\n",
    "ax.set_xticks(np.arange(-0.5, grid_size, 1), minor=True)\n",
    "ax.set_yticks(np.arange(-0.5, grid_size, 1), minor=True)\n",
    "ax.grid(which='minor', color='gray', linestyle='-', linewidth=0.5)\n",
    "\n",
    "plt.title(f'Color grid of top {N} paintings by dominant color')\n",
    "plt.show()"
   ]
  }
 ],
 "metadata": {
  "kernelspec": {
   "display_name": "Python 3 (ipykernel)",
   "language": "python",
   "name": "python3"
  },
  "language_info": {
   "codemirror_mode": {
    "name": "ipython",
    "version": 3
   },
   "file_extension": ".py",
   "mimetype": "text/x-python",
   "name": "python",
   "nbconvert_exporter": "python",
   "pygments_lexer": "ipython3",
   "version": "3.9.6"
  }
 },
 "nbformat": 4,
 "nbformat_minor": 5
}
