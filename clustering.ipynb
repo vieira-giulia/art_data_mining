{
 "cells": [
  {
   "cell_type": "code",
   "execution_count": 1,
   "metadata": {},
   "outputs": [],
   "source": [
    "import pandas as pd\n",
    "import numpy as np\n",
    "import matplotlib.pyplot as plt\n",
    "import seaborn as sns\n",
    "from sklearn.preprocessing import normalize\n",
    "from sklearn.cluster import KMeans\n",
    "from sklearn.manifold import TSNE\n",
    "from sklearn.metrics.pairwise import euclidean_distances\n",
    "import ast"
   ]
  },
  {
   "cell_type": "code",
   "execution_count": 2,
   "metadata": {},
   "outputs": [],
   "source": [
    "df = pd.read_csv(\"omniart-paintings-filtered-clean.csv\")"
   ]
  },
  {
   "cell_type": "code",
   "execution_count": 3,
   "metadata": {},
   "outputs": [],
   "source": [
    "# Drop missing palette info\n",
    "df = df.dropna(subset=['color_pallete', 'palette_count'])\n",
    "\n",
    "# Parse strings as lists\n",
    "df['color_pallete'] = df['color_pallete'].apply(ast.literal_eval)\n",
    "df['palette_count'] = df['palette_count'].apply(ast.literal_eval)"
   ]
  },
  {
   "cell_type": "code",
   "execution_count": 4,
   "metadata": {},
   "outputs": [],
   "source": [
    "def hex_to_rgb(hex_color):\n",
    "    hex_color = hex_color.lstrip(\"#\")\n",
    "    return [int(hex_color[i:i+2], 16) for i in (0, 2, 4)]"
   ]
  },
  {
   "cell_type": "code",
   "execution_count": 5,
   "metadata": {},
   "outputs": [],
   "source": [
    "# Build color-feature vectors We’ll use a flattened RGB vector, weighted by frequency.\n",
    "\n",
    "def get_color_vector(colors, counts, top_n=10):\n",
    "    total = sum(counts[:top_n])\n",
    "    vec = []\n",
    "    for color, count in zip(colors[:top_n], counts[:top_n]):\n",
    "        weight = count / total  # normalized frequency\n",
    "        rgb = hex_to_rgb(color)\n",
    "        vec.extend([c * weight for c in rgb])  # weighted RGB\n",
    "    # Pad with zeros if less than top_n\n",
    "    while len(vec) < top_n * 3:\n",
    "        vec.extend([0, 0, 0])\n",
    "    return vec"
   ]
  },
  {
   "cell_type": "code",
   "execution_count": 6,
   "metadata": {},
   "outputs": [],
   "source": [
    "df['color_vector'] = df.apply(lambda row: get_color_vector(row['color_pallete'], row['palette_count']), axis=1)\n",
    "X = np.array(df['color_vector'].tolist())"
   ]
  },
  {
   "cell_type": "code",
   "execution_count": 11,
   "metadata": {},
   "outputs": [],
   "source": [
    "tsne = TSNE(n_components=2, perplexity=30, random_state=42)\n",
    "X_embedded = tsne.fit_transform(X)"
   ]
  },
  {
   "cell_type": "code",
   "execution_count": null,
   "metadata": {},
   "outputs": [],
   "source": [
    "# Clustering (KMeans)\n",
    "kmeans = KMeans(n_clusters=100, random_state=42)\n",
    "df['cluster'] = kmeans.fit_predict(X)\n"
   ]
  },
  {
   "cell_type": "code",
   "execution_count": null,
   "metadata": {},
   "outputs": [],
   "source": [
    "plt.figure(figsize=(12, 8))\n",
    "sns.scatterplot(\n",
    "    x=X_embedded[:, 0],\n",
    "    y=X_embedded[:, 1],\n",
    "    hue=df['cluster'],\n",
    "    palette='tab10',\n",
    "    alpha=0.7\n",
    ")\n",
    "plt.title(\"Clustering of Paintings by Color Pattern\")\n",
    "plt.xlabel(\"t-SNE Dim 1\")\n",
    "plt.ylabel(\"t-SNE Dim 2\")\n",
    "plt.legend(title=\"Cluster\")\n",
    "plt.show()"
   ]
  },
  {
   "cell_type": "code",
   "execution_count": null,
   "metadata": {},
   "outputs": [],
   "source": [
    "from scipy.spatial.distance import pdist, squareform\n",
    "\n",
    "# Top N unique colors across dataset\n",
    "all_colors = df['color_pallete'].explode().value_counts().head(30).index.tolist()\n",
    "rgb_colors = np.array([hex_to_rgb(c) for c in all_colors])\n",
    "dists = squareform(pdist(rgb_colors))\n",
    "\n",
    "# Plot color proximity\n",
    "plt.figure(figsize=(10, 10))\n",
    "for i, color in enumerate(all_colors):\n",
    "    x, y = rgb_colors[i][0], rgb_colors[i][1]\n",
    "    plt.scatter(x, y, color=color, s=300)\n",
    "    plt.text(x+2, y, color, fontsize=8)\n",
    "    for j in range(len(all_colors)):\n",
    "        if i != j and dists[i, j] < 80:\n",
    "            x2, y2 = rgb_colors[j][0], rgb_colors[j][1]\n",
    "            plt.plot([x, x2], [y, y2], color='gray', alpha=0.3)\n",
    "\n",
    "plt.title(\"Color Proximity Graph (RGB Space)\")\n",
    "plt.xlabel(\"Red\")\n",
    "plt.ylabel(\"Green\")\n",
    "plt.grid(True)\n",
    "plt.show()"
   ]
  },
  {
   "cell_type": "code",
   "execution_count": null,
   "metadata": {},
   "outputs": [],
   "source": []
  }
 ],
 "metadata": {
  "kernelspec": {
   "display_name": "Python 3",
   "language": "python",
   "name": "python3"
  },
  "language_info": {
   "codemirror_mode": {
    "name": "ipython",
    "version": 3
   },
   "file_extension": ".py",
   "mimetype": "text/x-python",
   "name": "python",
   "nbconvert_exporter": "python",
   "pygments_lexer": "ipython3",
   "version": "3.9.6"
  }
 },
 "nbformat": 4,
 "nbformat_minor": 2
}
