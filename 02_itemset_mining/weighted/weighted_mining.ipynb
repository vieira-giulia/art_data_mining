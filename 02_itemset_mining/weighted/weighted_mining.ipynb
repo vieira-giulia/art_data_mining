{
 "cells": [
  {
   "cell_type": "code",
   "execution_count": 1,
   "metadata": {},
   "outputs": [],
   "source": [
    "import sys\n",
    "import os\n",
    "sys.path.append(os.path.abspath(\"../\"))\n",
    "\n",
    "import pandas as pd\n",
    "import utils\n",
    "# Mining: multidupehack\n",
    "# Plotting\n",
    "import plot_automations as plotter"
   ]
  },
  {
   "cell_type": "markdown",
   "metadata": {},
   "source": [
    "Loïc Cerf and Wagner Meira Jr. Complete Discovery of High-Quality Patterns in Large Numerical Tensors. In ICDE'14: Proceedings of the 30th International Conference on Data Engineering, pages 448–459. IEEE Computer Society, April 2014."
   ]
  },
  {
   "cell_type": "markdown",
   "metadata": {},
   "source": [
    "**1. Multidupehack input file**"
   ]
  },
  {
   "cell_type": "code",
   "execution_count": 2,
   "metadata": {},
   "outputs": [],
   "source": [
    "df = pd.read_csv(\"../01_color_clustering/weighted/weighted_omniart-post-color-clustering.csv\")"
   ]
  },
  {
   "cell_type": "code",
   "execution_count": 3,
   "metadata": {},
   "outputs": [],
   "source": [
    "color_clusters = pd.read_csv(\"../01_color_clustering/weighted/weighted_color_centroids.csv\")"
   ]
  },
  {
   "cell_type": "code",
   "execution_count": 4,
   "metadata": {},
   "outputs": [],
   "source": [
    "utils.prepare_multidupehack_input(df, color_clusters, \"weighted_mining.txt\")"
   ]
  },
  {
   "cell_type": "raw",
   "metadata": {
    "vscode": {
     "languageId": "raw"
    }
   },
   "source": [
    "File format\n",
    "decade:century:school:artist_full_name:#HEX1#COUNT1,...,#HEX10#COUNT10:1.0"
   ]
  },
  {
   "cell_type": "markdown",
   "metadata": {},
   "source": [
    "**2. Itemset mining**"
   ]
  },
  {
   "cell_type": "raw",
   "metadata": {
    "vscode": {
     "languageId": "raw"
    }
   },
   "source": [
    "--ids\t\":\"\n",
    "Dimension separator: Uses a space to separate between dimensions.\n",
    "\n",
    "--ies\t\",\"\t\n",
    "Item separator: Uses commas to separate individual items inside dimension.\n",
    "\n",
    "--epsilon \"X1 X2 X3 X4 X5\"\n",
    "Noise tolerance: Allows X% of that dimension in a pattern to be missing.\n",
    "\n",
    "--sizes \"X1 X2 X3 X4 X5\"\n",
    "Minimum pattern size: Requires each pattern to include at least X of that dimension.\n",
    "\n",
    "--Sizes \"X1 X2 X3 X4 X5\"\n",
    "Maximum pattern size: Requires each pattern to include at most X of that dimension.\n",
    "\n",
    "--area X\n",
    "Minimum support: Patterns must appear in at least X artworks (rows) to be included.\n",
    "\n",
    "--out [NAME].txt \n",
    "Output file: .txt format.\n",
    "\n",
    "--pa\n",
    "Print area.\n",
    "\n",
    "--ps \n",
    "Print size.\n",
    "\n",
    "--css\t\" => \"\t\n",
    "Output formatting:  separator between the pattern and sizes.\n",
    "\n",
    "--ss \", \"\n",
    "Output formatting: separator between size values.\n",
    "\n",
    "--sas\n",
    "Output formatting: separates sizes from area."
   ]
  },
  {
   "cell_type": "markdown",
   "metadata": {},
   "source": [
    "**2.1. Century**"
   ]
  },
  {
   "cell_type": "raw",
   "metadata": {
    "vscode": {
     "languageId": "raw"
    }
   },
   "source": [
    "./multidupehack weighted/weighted_mining.txt --ids \":\" --ies \",\" --epsilon \"0 0 0 0 0.5\" --sizes \"0 1 0 0 3\" --Sizes \"0 1 0 3 10\" --area 10 --out weighted/weighted_patterns.txt --pa --ps --css \" => \" --ss \", \" --density 0"
   ]
  },
  {
   "cell_type": "markdown",
   "metadata": {},
   "source": [
    "**2.2. Decade**"
   ]
  },
  {
   "cell_type": "markdown",
   "metadata": {},
   "source": []
  },
  {
   "cell_type": "markdown",
   "metadata": {},
   "source": [
    "**2.3. School**"
   ]
  },
  {
   "cell_type": "markdown",
   "metadata": {},
   "source": []
  },
  {
   "cell_type": "markdown",
   "metadata": {},
   "source": [
    "**2.4. Artist**"
   ]
  },
  {
   "cell_type": "markdown",
   "metadata": {},
   "source": []
  },
  {
   "cell_type": "markdown",
   "metadata": {},
   "source": [
    "**2.5. Colors**"
   ]
  },
  {
   "cell_type": "markdown",
   "metadata": {},
   "source": []
  }
 ],
 "metadata": {
  "kernelspec": {
   "display_name": "Python 3",
   "language": "python",
   "name": "python3"
  },
  "language_info": {
   "codemirror_mode": {
    "name": "ipython",
    "version": 3
   },
   "file_extension": ".py",
   "mimetype": "text/x-python",
   "name": "python",
   "nbconvert_exporter": "python",
   "pygments_lexer": "ipython3",
   "version": "3.9.6"
  }
 },
 "nbformat": 4,
 "nbformat_minor": 2
}
