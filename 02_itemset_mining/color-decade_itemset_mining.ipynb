{
 "cells": [
  {
   "cell_type": "code",
   "execution_count": 1,
   "metadata": {},
   "outputs": [],
   "source": [
    "import sys\n",
    "import os\n",
    "sys.path.append(os.path.abspath(\"../\"))\n",
    "\n",
    "import pandas as pd\n",
    "import utils\n",
    "# Mining: 3-dimensional multidupehack\n",
    "# Plotting\n",
    "import plot_automations as plotter"
   ]
  },
  {
   "cell_type": "markdown",
   "metadata": {},
   "source": [
    "Loïc Cerf and Wagner Meira Jr. Complete Discovery of High-Quality Patterns in Large Numerical Tensors. In ICDE'14: Proceedings of the 30th International Conference on Data Engineering, pages 448–459. IEEE Computer Society, April 2014."
   ]
  },
  {
   "cell_type": "markdown",
   "metadata": {},
   "source": [
    "**1. Multidupehack input file**"
   ]
  },
  {
   "cell_type": "code",
   "execution_count": 2,
   "metadata": {},
   "outputs": [],
   "source": [
    "df = pd.read_csv(\"../01_color_clustering/omniart-post-color-clustering.csv\")"
   ]
  },
  {
   "cell_type": "code",
   "execution_count": 3,
   "metadata": {},
   "outputs": [],
   "source": [
    "color_clusters = pd.read_csv(\"../01_color_clustering/color_centroids.csv\")"
   ]
  },
  {
   "cell_type": "code",
   "execution_count": 4,
   "metadata": {},
   "outputs": [],
   "source": [
    "# Add decade to creation intervals\n",
    "df[\"decade\"] = (df[\"creation_year\"] // 10 * 10).astype(int)"
   ]
  },
  {
   "cell_type": "code",
   "execution_count": 5,
   "metadata": {},
   "outputs": [],
   "source": [
    "utils.generate_multidupehack_file(\"color-decades_mining.txt\", color_clusters, df, \"decade\")"
   ]
  },
  {
   "cell_type": "markdown",
   "metadata": {},
   "source": [
    "**2. Itemset mining**"
   ]
  },
  {
   "cell_type": "markdown",
   "metadata": {},
   "source": [
    "./multidupehack --ids \" \" --ies \",\" -s \"10 1\" -a 1000 -e \"0 0\" --css \" => \" color-decades_mining.txt"
   ]
  },
  {
   "cell_type": "markdown",
   "metadata": {},
   "source": [
    "--ids\t\" \"\tDimension separator: Uses a space to separate the colors dimension from the decades dimension in the input file (e.g., \"red,blue 1920s 1.0\").\n",
    "--ies\t\",\"\tItem separator: Uses commas to separate individual colors within the colors dimension (e.g., red,blue).\n",
    "-s\t\"2 1\"\tMinimum pattern size: Requires each pattern to include at least 2 colors and 1 decade. Adjust these numbers to filter smaller/larger patterns.\n",
    "-a\t3\tMinimum support: Patterns must appear in at least 3 artworks (rows) to be included. Increase this to find more frequent patterns.\n",
    "-e\t\"0.1 0\"\tNoise tolerance: Allows 10% of colors in a pattern to be missing (0.1) but requires decades to be exact (0). Tighten this (e.g., \"0 0\") for strict matching.\n",
    "--css\t\" => \"\tOutput formatting: Makes results human-readable (e.g., red,blue => 1920s instead of red,blue 1920s)."
   ]
  }
 ],
 "metadata": {
  "kernelspec": {
   "display_name": "Python 3",
   "language": "python",
   "name": "python3"
  },
  "language_info": {
   "codemirror_mode": {
    "name": "ipython",
    "version": 3
   },
   "file_extension": ".py",
   "mimetype": "text/x-python",
   "name": "python",
   "nbconvert_exporter": "python",
   "pygments_lexer": "ipython3",
   "version": "3.9.6"
  }
 },
 "nbformat": 4,
 "nbformat_minor": 2
}
